{
 "cells": [
  {
   "cell_type": "markdown",
   "metadata": {},
   "source": [
    "### Controle de Versionamento - Git\n",
    "\n",
    "Um passo a passo simples que explicará:\n",
    "    - Como fazer um fork, modifica-lo (adicionado um arquivo ou editando) e, por fim, realizar um pull request"
   ]
  },
  {
   "cell_type": "markdown",
   "metadata": {},
   "source": [
    "#### Parte 1 - Fork e clone"
   ]
  },
  {
   "cell_type": "markdown",
   "metadata": {},
   "source": [
    "Utilizaremos o repositório do opendrift para isso. Acesse:\n",
    "\n",
    "https://github.com/OpenDrift/opendrift\n",
    "\n",
    "Garanta que:\n",
    "    - você está logado em seu usuário (passo 1) e\n",
    "    - você está no branch master do repositório (passo 2)\n",
    "\n",
    "e clique em *fork* (passo 3) para realizar uma cópia exata do repositório em sua conta do github."
   ]
  },
  {
   "cell_type": "markdown",
   "metadata": {},
   "source": [
    "![Drag Racing](../images/git_1.png)"
   ]
  },
  {
   "cell_type": "markdown",
   "metadata": {},
   "source": [
    "Por fim, faça o clone do novo repositório para seu computador, utilizando o seguinte comando no terminal:\n",
    "\n",
    "```bash\n",
    "git clone https://github.com/<seu_usuario>/opendrift.git \n",
    "```"
   ]
  },
  {
   "cell_type": "markdown",
   "metadata": {},
   "source": [
    "#### Parte 2 - Criando um branch"
   ]
  },
  {
   "cell_type": "markdown",
   "metadata": {},
   "source": [
    "Em seu terminal linux, acesse o diretório clonado. Para verificar os branchs que existem, digite:"
   ]
  },
  {
   "cell_type": "markdown",
   "metadata": {},
   "source": [
    "```bash\n",
    "    git branch\n",
    "```"
   ]
  },
  {
   "cell_type": "markdown",
   "metadata": {},
   "source": [
    "E ele listará os branches existentes. Vamos, então, criar um específico para a etapa atual do nosso projeto.\n",
    "\n",
    "Digite:"
   ]
  },
  {
   "cell_type": "markdown",
   "metadata": {},
   "source": [
    "```bash\n",
    "    git checkout -b dev_ecom_reader\n",
    "```"
   ]
  },
  {
   "cell_type": "markdown",
   "metadata": {},
   "source": [
    "O que estamos fazendo aqui, basicamente, é trocar de branch e, caso não exista o branch dev_ecom_reader, o git irá cria-lo.\n",
    "\n",
    "Se você digitar, novamente, git branch, verá que foi alterado.\n",
    "\n",
    "Mas o que é um branch?\n",
    "\n",
    "Simplesmente é um \"ramo\", a bem da tradução, do seu código. Vamos pensar da seguinte forma:\n",
    "\n",
    "Você possui um código, que funciona perfeitamente, mas precisa implementar uma nova funcionalidade. Se você fizer isso em cima do código que já funciona, problemas, inevitalmente, acontecerão e isso poderá prejudicar seu código. A alternativa seria fazer uma cópia, um backup, modificar o código e, estando tudo funcionando, remover o backup.\n",
    "\n",
    "Com o git, ao invés de fazer este backup, você cria um novo branch, trabalha em cima deste branch e, estando tudo funcionando corretamente, um merge pode ser realizado para o branch master (código em pleno funcionamento).\n",
    "\n",
    "A forma mais simples de ver isso é com uma ilustração:"
   ]
  },
  {
   "cell_type": "markdown",
   "metadata": {},
   "source": [
    "[ inserir imagem do git workflow ]"
   ]
  },
  {
   "cell_type": "markdown",
   "metadata": {},
   "source": [
    "#### Parte 3 - Editando e fazendo upload das alterações"
   ]
  },
  {
   "cell_type": "markdown",
   "metadata": {},
   "source": [
    "Com o novo branch criado (**dev_ecom_reader**), podemos enfim editar a vontade os arquivos. Como exemplo, podemos criar um arquivo temporário para dar continuidade ao tutorial.\n",
    "\n",
    "Em seu terminal, crie um arquivo chamado *testando.py*, abra em seu editor de texto e digite:\n",
    "\n",
    "```python\n",
    "def __main__():\n",
    "    print(\"Dummy file\")\n",
    "```\n",
    "\n",
    "Você pode testar o arquivo, com o comando:\n",
    "\n",
    "```bash\n",
    "python testando.py\n",
    "```\n",
    "\n",
    "Agora vamos para a parte interessante. Com o nosso primeiro arquivo criado e editado, vamos envia-lo para o servidor remoto do github, de modo que ele possa ser visualizado via navegado e ser acessado por outros computadores.\n",
    "\n",
    "Digite o seguinte bloco de comandos:\n",
    "\n",
    "```bash\n",
    "git add testando.py\n",
    "git commit -m \"uploading our first file for a forked repository\"\n",
    "git push origin dev_ecom_reader\n",
    "```\n",
    "\n",
    "Pode ser que ele peça seu usuário e senha, neste caso forneça via terminal, e você verá a mágica acontecer.\n",
    "\n",
    "Estando tudo ok, o seguinte texto deve aparecer na sua tela:\n",
    "\n",
    "```bash\n",
    "[[colocar texto]]\n",
    "```"
   ]
  },
  {
   "cell_type": "markdown",
   "metadata": {},
   "source": [
    "[[ inserir imagem mostrando o texto e os códigos digitados ]]"
   ]
  },
  {
   "cell_type": "markdown",
   "metadata": {},
   "source": [
    "Vamos ao navegador e atualize sua página. Obviamente nada terá mudado, pois você está no branch **master** e nós fizemos alterações no branch **dev_ecom_reader**.\n",
    "\n",
    "Clique no Branch e selecione o que você deseja visualizar e, então, você verá o arquivo *testando.py* e seu comentário ao lado."
   ]
  }
 ],
 "metadata": {
  "kernelspec": {
   "display_name": "Python 3",
   "language": "python",
   "name": "python3"
  },
  "language_info": {
   "codemirror_mode": {
    "name": "ipython",
    "version": 3
   },
   "file_extension": ".py",
   "mimetype": "text/x-python",
   "name": "python",
   "nbconvert_exporter": "python",
   "pygments_lexer": "ipython3",
   "version": "3.7.3"
  }
 },
 "nbformat": 4,
 "nbformat_minor": 2
}
